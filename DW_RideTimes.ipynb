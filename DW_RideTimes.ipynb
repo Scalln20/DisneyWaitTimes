{
  "nbformat": 4,
  "nbformat_minor": 0,
  "metadata": {
    "colab": {
      "provenance": [],
      "authorship_tag": "ABX9TyN7ivGTZ3xklRQt4A/7QX7N",
      "include_colab_link": true
    },
    "kernelspec": {
      "name": "python3",
      "display_name": "Python 3"
    },
    "language_info": {
      "name": "python"
    }
  },
  "cells": [
    {
      "cell_type": "markdown",
      "metadata": {
        "id": "view-in-github",
        "colab_type": "text"
      },
      "source": [
        "<a href=\"https://colab.research.google.com/github/Scalln20/DisneyWaitTimes/blob/main/DW_RideTimes.ipynb\" target=\"_parent\"><img src=\"https://colab.research.google.com/assets/colab-badge.svg\" alt=\"Open In Colab\"/></a>"
      ]
    },
    {
      "cell_type": "code",
      "execution_count": 9,
      "metadata": {
        "id": "fJZCGGssOH5m"
      },
      "outputs": [],
      "source": [
        "# Imports\n",
        "import time\n",
        "import random\n",
        "import json\n",
        "import requests\n",
        "\n",
        "#Urls\n",
        "url = \"https://queue-times.com/parks.json\"\n",
        "akQurl = \"https://queue-times.com/parks/8/queue_times.json\"\n",
        "hsQurl = \"https://queue-times.com/parks/7/queue_times.json\"\n",
        "mkQurl = \"https://queue-times.com/parks/6/queue_times.json\"\n",
        "epQurl = \"https://queue-times.com/parks/5/queue_times.json\"\n",
        "\n"
      ]
    },
    {
      "cell_type": "code",
      "source": [
        "# This is the Park details load\n",
        "\n",
        "r = requests.get(url)\n",
        "#print(r.json())\n",
        "\n",
        "parks = r.json()\n",
        "\n",
        "\n",
        "\n",
        "for p in range(0,len(parks[12][\"parks\"])):\n",
        "    if parks[12][\"parks\"][p][\"country\"] == \"United States\" and parks[12][\"parks\"][p][\"timezone\"] == \"America/New_York\":\n",
        "        print(parks[12][\"parks\"][p])\n",
        "        print(\"---------------------------------------------------------------\")\n",
        "#        time.sleep(0.3)\n",
        "\n",
        "\n"
      ],
      "metadata": {
        "colab": {
          "base_uri": "https://localhost:8080/"
        },
        "id": "splm580mOZRM",
        "outputId": "61039234-b076-443b-8d7a-7e1dc1c540a9"
      },
      "execution_count": 10,
      "outputs": [
        {
          "output_type": "stream",
          "name": "stdout",
          "text": [
            "{'id': 8, 'name': 'Animal Kingdom', 'country': 'United States', 'continent': 'North America', 'latitude': '28.3530666', 'longitude': '-81.5911943', 'timezone': 'America/New_York'}\n",
            "---------------------------------------------------------------\n",
            "{'id': 7, 'name': 'Disney Hollywood Studios', 'country': 'United States', 'continent': 'North America', 'latitude': '28.3575294', 'longitude': '-81.5582714', 'timezone': 'America/New_York'}\n",
            "---------------------------------------------------------------\n",
            "{'id': 6, 'name': 'Disney Magic Kingdom', 'country': 'United States', 'continent': 'North America', 'latitude': '28.417663', 'longitude': '-81.581212', 'timezone': 'America/New_York'}\n",
            "---------------------------------------------------------------\n",
            "{'id': 5, 'name': 'Epcot', 'country': 'United States', 'continent': 'North America', 'latitude': '28.374694', 'longitude': '-81.549404', 'timezone': 'America/New_York'}\n",
            "---------------------------------------------------------------\n"
          ]
        }
      ]
    },
    {
      "cell_type": "code",
      "source": [
        "\n",
        "### Hollywood Studios\n",
        "\n",
        "hsR = requests.get(hsQurl)\n",
        "\n",
        "hs = hsR.json()\n",
        "\n",
        "#print(hs['lands'])\n",
        "\n",
        "for a in range(0,len(hs['lands'])):\n",
        "  print(hs['lands'][a])\n",
        "  for r in range(0,len(hs['lands'][a]['rides'])):\n",
        "    print(hs['lands'][a]['rides'][r]['name'], '- wait time: ' , hs['lands'][a]['rides'][r]['wait_time'], '- is open:' , hs['lands'][a]['rides'][r]['wait_time'])"
      ],
      "metadata": {
        "id": "-JTT-FPUOqzj"
      },
      "execution_count": null,
      "outputs": []
    }
  ]
}