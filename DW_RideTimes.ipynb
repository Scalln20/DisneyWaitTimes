{
  "cells": [
    {
      "cell_type": "markdown",
      "metadata": {
        "colab_type": "text",
        "id": "view-in-github"
      },
      "source": [
        "<a href=\"https://colab.research.google.com/github/Scalln20/DisneyWaitTimes/blob/main/DW_RideTimes.ipynb\" target=\"_parent\"><img src=\"https://colab.research.google.com/assets/colab-badge.svg\" alt=\"Open In Colab\"/></a>"
      ]
    },
    {
      "cell_type": "code",
      "execution_count": 2,
      "metadata": {
        "id": "fJZCGGssOH5m"
      },
      "outputs": [],
      "source": [
        "# Imports\n",
        "import time\n",
        "import random\n",
        "import json\n",
        "import requests\n",
        "\n",
        "#Urls\n",
        "url = \"https://queue-times.com/parks.json\"\n",
        "akQurl = \"https://queue-times.com/parks/8/queue_times.json\"\n",
        "hsQurl = \"https://queue-times.com/parks/7/queue_times.json\"\n",
        "mkQurl = \"https://queue-times.com/parks/6/queue_times.json\"\n",
        "epQurl = \"https://queue-times.com/parks/5/queue_times.json\"\n",
        "\n"
      ]
    },
    {
      "cell_type": "code",
      "execution_count": 3,
      "metadata": {
        "colab": {
          "base_uri": "https://localhost:8080/"
        },
        "id": "splm580mOZRM",
        "outputId": "61039234-b076-443b-8d7a-7e1dc1c540a9"
      },
      "outputs": [
        {
          "name": "stdout",
          "output_type": "stream",
          "text": [
            "{'id': 8, 'name': 'Animal Kingdom', 'country': 'United States', 'continent': 'North America', 'latitude': '28.3530666', 'longitude': '-81.5911943', 'timezone': 'America/New_York'}\n",
            "---------------------------------------------------------------\n",
            "{'id': 7, 'name': 'Disney Hollywood Studios', 'country': 'United States', 'continent': 'North America', 'latitude': '28.3575294', 'longitude': '-81.5582714', 'timezone': 'America/New_York'}\n",
            "---------------------------------------------------------------\n",
            "{'id': 6, 'name': 'Disney Magic Kingdom', 'country': 'United States', 'continent': 'North America', 'latitude': '28.417663', 'longitude': '-81.581212', 'timezone': 'America/New_York'}\n",
            "---------------------------------------------------------------\n",
            "{'id': 5, 'name': 'Epcot', 'country': 'United States', 'continent': 'North America', 'latitude': '28.374694', 'longitude': '-81.549404', 'timezone': 'America/New_York'}\n",
            "---------------------------------------------------------------\n"
          ]
        }
      ],
      "source": [
        "# This is the Park details load\n",
        "\n",
        "r = requests.get(url)\n",
        "#print(r.json())\n",
        "\n",
        "parks = r.json()\n",
        "\n",
        "\n",
        "\n",
        "for p in range(0,len(parks[12][\"parks\"])):\n",
        "    if parks[12][\"parks\"][p][\"country\"] == \"United States\" and parks[12][\"parks\"][p][\"timezone\"] == \"America/New_York\":\n",
        "        print(parks[12][\"parks\"][p])\n",
        "        print(\"---------------------------------------------------------------\")\n",
        "#        time.sleep(0.3)\n",
        "\n",
        "\n"
      ]
    },
    {
      "cell_type": "code",
      "execution_count": 4,
      "metadata": {
        "colab": {
          "base_uri": "https://localhost:8080/"
        },
        "id": "-JTT-FPUOqzj",
        "outputId": "0b5bbe3b-c5a4-4a32-c0df-41c0eb909725"
      },
      "outputs": [
        {
          "name": "stdout",
          "output_type": "stream",
          "text": [
            "Animation Courtyard :\n",
            "  Disney Junior Play and Dance! - wait time:  0 - is open: True\n",
            "  Meet Sulley at Walt Disney Presents - wait time:  0 - is open: False\n",
            "  Walt Disney Presents - wait time:  0 - is open: True\n",
            "Commissary Lane :\n",
            "  Meet Disney Stars at Red Carpet Dreams - wait time:  45 - is open: True\n",
            "Echo Lake :\n",
            "  For the First Time in Forever: A Frozen Sing-Along Celebration - wait time:  0 - is open: True\n",
            "  Indiana Jones™ Epic Stunt Spectacular! - wait time:  0 - is open: True\n",
            "  Meet Olaf at Celebrity Spotlight - wait time:  0 - is open: False\n",
            "  Star Tours – The Adventures Continue - wait time:  10 - is open: True\n",
            "  Vacation Fun - An Original Animated Short with Mickey & Minnie - wait time:  10 - is open: True\n",
            "Hollywood Boulevard :\n",
            "  Mickey & Minnie's Runaway Railway - wait time:  60 - is open: True\n",
            "Muppet Courtyard :\n",
            "  Muppet*Vision 3D - wait time:  10 - is open: True\n",
            "Pixar Place :\n",
            "  Toy Story Mania! - wait time:  70 - is open: True\n",
            "Star Wars: Galaxy's Edge :\n",
            "  Millennium Falcon: Smugglers Run - wait time:  65 - is open: True\n",
            "  Millennium Falcon: Smugglers Run Single Rider - wait time:  0 - is open: True\n",
            "  Star Wars: Rise of the Resistance - wait time:  95 - is open: True\n",
            "Sunset Boulevard :\n",
            "  Beauty & The Beast Live on Stage - wait time:  0 - is open: True\n",
            "  Lightning McQueen's Racing Academy - wait time:  15 - is open: True\n",
            "  Rock 'n' Roller Coaster Starring Aerosmith - wait time:  60 - is open: True\n",
            "  Rock 'n' Roller Coaster Starring Aerosmith Single Rider - wait time:  0 - is open: True\n",
            "  The Twilight Zone Tower of Terror™ - wait time:  65 - is open: True\n",
            "Toy Story Land :\n",
            "  Alien Swirling Saucers - wait time:  45 - is open: True\n",
            "  Slinky Dog Dash - wait time:  95 - is open: True\n"
          ]
        }
      ],
      "source": [
        "\n",
        "### Hollywood Studios\n",
        "\n",
        "hsR = requests.get(hsQurl)\n",
        "\n",
        "hs = hsR.json()\n",
        "\n",
        "#print(hs['lands'])\n",
        "\n",
        "for a in range(0,len(hs['lands'])):\n",
        "  print(hs['lands'][a]['name'],':')\n",
        "  for r in range(0,len(hs['lands'][a]['rides'])):\n",
        "    print(' ',hs['lands'][a]['rides'][r]['name'], '- wait time: ' , hs['lands'][a]['rides'][r]['wait_time'], '- is open:' , hs['lands'][a]['rides'][r]['is_open'])"
      ]
    },
    {
      "cell_type": "code",
      "execution_count": 5,
      "metadata": {},
      "outputs": [
        {
          "name": "stdout",
          "output_type": "stream",
          "text": [
            "Adventureland :\n",
            "  A Pirate's Adventure ~ Treasures of the Seven Seas - wait time:  0 - is open: False\n",
            "  Jungle Cruise - wait time:  60 - is open: True\n",
            "  Pirates of the Caribbean - wait time:  25 - is open: True\n",
            "  Swiss Family Treehouse - wait time:  5 - is open: True\n",
            "  The Magic Carpets of Aladdin - wait time:  35 - is open: True\n",
            "  Walt Disney's Enchanted Tiki Room - wait time:  5 - is open: True\n",
            "Fantasyland :\n",
            "  \"it's a small world\" - wait time:  45 - is open: True\n",
            "  Dumbo the Flying Elephant - wait time:  10 - is open: True\n",
            "  Enchanted Tales with Belle - wait time:  30 - is open: True\n",
            "  Mad Tea Party - wait time:  15 - is open: True\n",
            "  Meet Ariel at Her Grotto - wait time:  35 - is open: True\n",
            "  Meet Cinderella and a Visiting Princess at Princess Fairytale Hall - wait time:  70 - is open: True\n",
            "  Meet Daring Disney Pals as Circus Stars at Pete's Silly Sideshow - wait time:  35 - is open: True\n",
            "  Meet Dashing Disney Pals as Circus Stars at Pete's Silly Sideshow - wait time:  55 - is open: True\n",
            "  Meet Princess Tiana and a Visiting Princess at Princess Fairytale Hall - wait time:  60 - is open: True\n",
            "  Mickey's PhilharMagic - wait time:  15 - is open: True\n",
            "  Peter Pan's Flight - wait time:  70 - is open: True\n",
            "  Prince Charming Regal Carrousel - wait time:  10 - is open: True\n",
            "  Seven Dwarfs Mine Train - wait time:  95 - is open: True\n",
            "  The Barnstormer - wait time:  50 - is open: True\n",
            "  The Many Adventures of Winnie the Pooh - wait time:  35 - is open: True\n",
            "  Under the Sea - Journey of The Little Mermaid - wait time:  35 - is open: True\n",
            "  Walt Disney World Railroad - Fantasyland - wait time:  10 - is open: True\n",
            "Frontierland :\n",
            "  Big Thunder Mountain Railroad - wait time:  40 - is open: True\n",
            "  Country Bear Jamboree - wait time:  0 - is open: True\n",
            "  Splash Mountain - wait time:  0 - is open: False\n",
            "  Tom Sawyer Island - wait time:  0 - is open: False\n",
            "  Walt Disney World Railroad - Frontierland - wait time:  10 - is open: True\n",
            "Liberty Square :\n",
            "  Haunted Mansion - wait time:  45 - is open: True\n",
            "  Liberty Square Riverboat - wait time:  20 - is open: True\n",
            "  The Hall of Presidents - wait time:  20 - is open: True\n",
            "Main Street, U.S.A. :\n",
            "  Disney Festival of Fantasy Parade - wait time:  0 - is open: True\n",
            "  Meet Mickey at Town Square Theater - wait time:  20 - is open: True\n",
            "  Walt Disney World Railroad - Main Street, U.S.A. - wait time:  10 - is open: True\n",
            "Tomorrowland :\n",
            "  Astro Orbiter - wait time:  45 - is open: True\n",
            "  Buzz Lightyear's Space Ranger Spin - wait time:  45 - is open: True\n",
            "  Monsters Inc. Laugh Floor - wait time:  10 - is open: True\n",
            "  Space Mountain - wait time:  0 - is open: False\n",
            "  Tomorrowland Speedway - wait time:  35 - is open: True\n",
            "  Tomorrowland Transit Authority PeopleMover - wait time:  10 - is open: True\n",
            "  TRON Lightcycle / Run – New! - wait time:  0 - is open: True\n",
            "  Walt Disney's Carousel of Progress - wait time:  5 - is open: True\n"
          ]
        }
      ],
      "source": [
        "### Magic Kingdom\n",
        "\n",
        "mkR = requests.get(mkQurl)\n",
        "\n",
        "mk = mkR.json()\n",
        "\n",
        "#print(mk['lands'])\n",
        "\n",
        "for a in range(0,len(mk['lands'])):\n",
        "  print(mk['lands'][a]['name'],':')\n",
        "  for r in range(0,len(mk['lands'][a]['rides'])):\n",
        "    print(' ',mk['lands'][a]['rides'][r]['name'], '- wait time: ' , mk['lands'][a]['rides'][r]['wait_time'], '- is open:' , mk['lands'][a]['rides'][r]['is_open'])\n",
        "\n",
        "    "
      ]
    },
    {
      "cell_type": "code",
      "execution_count": 9,
      "metadata": {},
      "outputs": [
        {
          "name": "stdout",
          "output_type": "stream",
          "text": [
            "Africa :\n",
            "  Festival of the Lion King - wait time:  0 - is open: True\n",
            "  Gorilla Falls Exploration Trail - wait time:  0 - is open: True\n",
            "  Kilimanjaro Safaris - wait time:  5 - is open: True\n",
            "  Wildlife Express Train - wait time:  0 - is open: False\n",
            "Asia :\n",
            "  Expedition Everest - Legend of the Forbidden Mountain - wait time:  25 - is open: True\n",
            "  Feathered Friends in Flight! - wait time:  0 - is open: True\n",
            "  Kali River Rapids - wait time:  45 - is open: True\n",
            "Dinoland U.S.A :\n",
            "  DINOSAUR - wait time:  45 - is open: True\n",
            "  Finding Nemo: The Big Blue... and Beyond! - wait time:  0 - is open: True\n",
            "  The Boneyard - wait time:  0 - is open: True\n",
            "  TriceraTop Spin - wait time:  5 - is open: True\n",
            "Discovery Island :\n",
            "  It's Tough to be a Bug! - wait time:  10 - is open: True\n",
            "  Meet Favorite Disney Pals at Adventurers Outpost - wait time:  0 - is open: False\n",
            "Pandora - The World of Avatar :\n",
            "  Avatar Flight of Passage - wait time:  110 - is open: True\n",
            "  Na'vi River Journey - wait time:  95 - is open: True\n",
            "Rafiki's Planet Watch :\n",
            "  The Animation Experience at Conservation Station - wait time:  0 - is open: True\n"
          ]
        }
      ],
      "source": [
        "### Animal Kingdom\n",
        "\n",
        "akR = requests.get(akQurl)\n",
        "\n",
        "ak = akR.json()\n",
        "\n",
        "#print(ak['lands'])\n",
        "\n",
        "for a in range(0,len(ak['lands'])):\n",
        "  print(ak['lands'][a]['name'],':')\n",
        "  for r in range(0,len(ak['lands'][a]['rides'])):\n",
        "    print(' ',ak['lands'][a]['rides'][r]['name'], '- wait time: ' , ak['lands'][a]['rides'][r]['wait_time'], '- is open:' , ak['lands'][a]['rides'][r]['is_open'])\n",
        "\n",
        "    "
      ]
    },
    {
      "cell_type": "code",
      "execution_count": 10,
      "metadata": {},
      "outputs": [
        {
          "name": "stdout",
          "output_type": "stream",
          "text": [
            "World Celebration :\n",
            "  Disney and Pixar Short Film Festival - wait time:  0 - is open: True\n",
            "  Journey Into Imagination With Figment - wait time:  15 - is open: True\n",
            "  Spaceship Earth - wait time:  20 - is open: True\n",
            "World Discovery :\n",
            "  Guardians of the Galaxy: Cosmic Rewind - wait time:  0 - is open: True\n",
            "  Mission: SPACE - wait time:  20 - is open: True\n",
            "  Test Track - wait time:  50 - is open: True\n",
            "  Test Track Presented by Chevrolet Single Rider - wait time:  0 - is open: True\n",
            "World Nature :\n",
            "  Awesome Planet - wait time:  0 - is open: True\n",
            "  Living with the Land - wait time:  5 - is open: True\n",
            "  Soarin' Around the World - wait time:  40 - is open: True\n",
            "  The Seas with Nemo & Friends - wait time:  5 - is open: True\n",
            "  Turtle Talk With Crush - wait time:  15 - is open: True\n",
            "World Showcase :\n",
            "  Canada Far and Wide in Circle-Vision 360 - wait time:  0 - is open: True\n",
            "  Frozen Ever After - wait time:  90 - is open: True\n",
            "  Gran Fiesta Tour Starring The Three Caballeros - wait time:  15 - is open: True\n",
            "  Meet Anna and Elsa at Royal Sommerhus - wait time:  30 - is open: True\n",
            "  Remy's Ratatouille Adventure - wait time:  100 - is open: True\n",
            "  Remy's Ratatouille Adventure Single Rider - wait time:  0 - is open: True\n"
          ]
        }
      ],
      "source": [
        "### Epcot\n",
        "\n",
        "epR = requests.get(epQurl)\n",
        "\n",
        "ep = epR.json()\n",
        "\n",
        "#print(ep['lands'])\n",
        "\n",
        "for a in range(0,len(ep['lands'])):\n",
        "  print(ep['lands'][a]['name'],':')\n",
        "  for r in range(0,len(ep['lands'][a]['rides'])):\n",
        "    print(' ',ep['lands'][a]['rides'][r]['name'], '- wait time: ' , ep['lands'][a]['rides'][r]['wait_time'], '- is open:' , ep['lands'][a]['rides'][r]['is_open'])\n",
        "\n",
        "    "
      ]
    }
  ],
  "metadata": {
    "colab": {
      "authorship_tag": "ABX9TyM1UP79j0GRoRgx/8svg/kU",
      "include_colab_link": true,
      "provenance": []
    },
    "kernelspec": {
      "display_name": "\"Python/Mu (mu_venv-38-20230725-210800)\"",
      "language": "python",
      "name": "mu_venv-38-20230725-210800"
    },
    "language_info": {
      "codemirror_mode": {
        "name": "ipython",
        "version": 3
      },
      "file_extension": ".py",
      "mimetype": "text/x-python",
      "name": "python",
      "nbconvert_exporter": "python",
      "pygments_lexer": "ipython3",
      "version": "3.8.12"
    }
  },
  "nbformat": 4,
  "nbformat_minor": 0
}
